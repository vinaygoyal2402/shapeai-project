{
 "cells": [
  {
   "cell_type": "code",
   "execution_count": 8,
   "metadata": {},
   "outputs": [
    {
     "name": "stdout",
     "output_type": "stream",
     "text": [
      "Enter the city name:Faridabad\n",
      "***********************************************************************************\n",
      "Weather Stats for -FARIDABAD ||\n",
      "***********************************************************************************\n",
      "Current temperature is:38.14 deg C\n",
      "Current weather desc : clear sky\n",
      "Current Humidity     : 17 %\n",
      "Current wind speed   : 3.06 kmph\n"
     ]
    }
   ],
   "source": [
    "import requests\n",
    "from datetime import datetime\n",
    "api_key='99d381da942b83acf3de433e7e99b415'\n",
    "location=input(\"Enter the city name:\")\n",
    "complete_api_link=\"https://api.openweathermap.org/data/2.5/weather?q=\"+location+\"&appid=\"+api_key+\"\"\n",
    "api_link=requests.get(complete_api_link)\n",
    "#a=requests.get(complete_api_link)\n",
    "\n",
    "api_data=api_link.json()\n",
    "temp_city=((api_data['main']['temp'])-273.15)#273.15 for converting temperature into celsius\n",
    "weather_desc=api_data['weather'][0]['description']\n",
    "hmdt=api_data['main']['humidity']\n",
    "wind_speed=api_data['wind']['speed']\n",
    "date_time=datetime.now().strftime(\"%d %b %Y | %I:%M:%S %p\")\n",
    "\n",
    "print(\"***********************************************************************************\")\n",
    "print(\"Weather Stats for -{} ||\".format(location.upper(),date_time))\n",
    "print(\"***********************************************************************************\")\n",
    "\n",
    "print(\"Current temperature is:{:.2f} deg C\".format(temp_city))\n",
    "print(\"Current weather desc :\",weather_desc)\n",
    "print(\"Current Humidity     :\",hmdt,'%')\n",
    "print(\"Current wind speed   :\",wind_speed,'kmph')\n",
    "\n",
    "\n",
    "\n",
    "\n",
    "#To print the output in text file\n",
    "f=open(\"d:\\\\BOOTCAMP\\\\weather.txt\",\"w\")\n",
    "f.write(\"***********************************************************************************\")\n",
    "f.write(\"\\nWeather Stats for -{} ||\"+str.format(location.upper(),date_time))\n",
    "f.write(\"\\n***********************************************************************************\")\n",
    "s=\"{:.2f}\".format(temp_city)\n",
    "f.write(\"\\nCurrent temperature is: \"+str(s)+\"deg C\")\n",
    "f.write(\"\\nCurrent weather desc :\"+str(weather_desc))\n",
    "f.write(\"\\nCurrent Humidity     :\"+str(hmdt)+'%')\n",
    "f.write(\"\\nCurrent wind speed   :\"+str(wind_speed)+'kmph')\n",
    "\n",
    "f.close()"
   ]
  },
  {
   "cell_type": "code",
   "execution_count": null,
   "metadata": {},
   "outputs": [],
   "source": []
  }
 ],
 "metadata": {
  "kernelspec": {
   "display_name": "Python 3",
   "language": "python",
   "name": "python3"
  },
  "language_info": {
   "codemirror_mode": {
    "name": "ipython",
    "version": 3
   },
   "file_extension": ".py",
   "mimetype": "text/x-python",
   "name": "python",
   "nbconvert_exporter": "python",
   "pygments_lexer": "ipython3",
   "version": "3.6.5"
  }
 },
 "nbformat": 4,
 "nbformat_minor": 2
}
